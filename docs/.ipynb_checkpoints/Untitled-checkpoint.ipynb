{
 "cells": [
  {
   "cell_type": "markdown",
   "metadata": {},
   "source": [
    "**The Team Name**\n",
    "\n",
    "Team-sigma\n",
    "\n",
    "**The Application Name**\n",
    "\n",
    "Study Buddy\n",
    "\n",
    "**Team Overview**\n",
    "\n",
    "Sam Wallace - smwallace949\n",
    "\n",
    "Elisavet Philippakis - ephilippakis\n",
    "\n",
    "Alan Castillo - aacastillo\n",
    "\n",
    "**Innovative Idea**\n",
    "\n",
    "The main role of the project is to prompt students in a given class to interact with their peers and classmates in ways that benefit their confidence and ability to perform in said class. We fully understand that such a system would be possible (in an ideal world) with a less engaged interface; students could find peer study groups/partners and tutors in class forums like piazza and social/professional networks like discord, linkedin, and slack. However, as CS students, we have experienced firsthand what it feels like to try to collaborate on work in a room full of strangers: it’s difficult to find those who work well with your learning style, it’s cumbersome to discuss logistics with those you have never met, and overall the process can potentially lower confidence and exacerbate imposter syndrome. We believe that a system which is explicitly made for the purpose of students reaching out to other students to either give or receive help with difficult coursework will lessen the burden of dealing with these challenges.\n",
    "\n",
    "**Important Components**\n",
    "\n",
    "A student looking for help in a class they are struggling in will log into this website, click on the class (and possibly class section) they are in, and see a list of open study groups made up of other students in the class, as well as a list of anyone looking for a study partner instead of a larger group. If the student clicks on any of the open study groups, they see information on what dates, times and places they meet, and who to contact for more information about the group’s dynamics. No extra information about other students is shown unless they choose to display it; we expect students to connect by other means like slack or UMass email.\n",
    "\n",
    "If a student is looking for a freelance tutor for course content, they will make the same actions as if they were looking for classmates to study with, but they will filter results by those who are offering to be a tutor and not a study partner. Those who offer to be tutors will have taken the course in question already, and will provide an email so they can be contacted about tutoring. Students can also ask for a tutor conversely. Like stated above, this is an interface to only make connections through, not to moderate interactions with classmates and peers.\n"
   ]
  },
  {
   "cell_type": "markdown",
   "metadata": {},
   "source": []
  }
 ],
 "metadata": {
  "kernelspec": {
   "display_name": "Python 3",
   "language": "python",
   "name": "python3"
  },
  "language_info": {
   "codemirror_mode": {
    "name": "ipython",
    "version": 3
   },
   "file_extension": ".py",
   "mimetype": "text/x-python",
   "name": "python",
   "nbconvert_exporter": "python",
   "pygments_lexer": "ipython3",
   "version": "3.6.9"
  }
 },
 "nbformat": 4,
 "nbformat_minor": 4
}
